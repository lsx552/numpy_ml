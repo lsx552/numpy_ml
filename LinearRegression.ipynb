{
 "cells": [
  {
   "cell_type": "code",
   "execution_count": 4,
   "metadata": {},
   "outputs": [],
   "source": [
    "import pandas as pd\n",
    "import numpy as np\n",
    "from IPython.display import Image\n",
    "import warnings"
   ]
  },
  {
   "cell_type": "code",
   "execution_count": 8,
   "metadata": {},
   "outputs": [
    {
     "data": {
      "image/png": "[encoded data removed]",
      "text/plain": [
       "<IPython.core.display.Image object>"
      ]
     },
     "execution_count": 8,
     "metadata": {
      "image/png": {
       "height": 180,
       "width": 240
      }
     },
     "output_type": "execute_result"
    }
   ],
   "source": [
    "Image(filename = r'C:\\Users\\lsx552\\numpy code\\线性回归公式.png', width=240, height=180)"
   ]
  },
  {
   "cell_type": "code",
   "execution_count": 22,
   "metadata": {},
   "outputs": [],
   "source": [
    "def cost_function(weights, bias , X, y):# 线性回归的损失函数\n",
    "    sample_num, dim = X.shape\n",
    "    error = np.dot(X, weights)+ bias - y\n",
    "    return (1./(2*sample_num)) * np.dot(error.T, error)\n",
    "\n",
    "def gradient_function(weights, bias, X, y):# 线性回归的梯度\n",
    "    sample_num, dim = X.shape\n",
    "    error = np.dot(X, weights) + bias - y\n",
    "    weights_grad =(1./sample_num) * np.dot(X.T, error)\n",
    "    bias_grad = (1./sample_num) * np.dot(np.ones(shape=(1,sample_num)),error)\n",
    "    return weights_grad,bias_grad\n",
    "\n",
    "def liner_Regression(X, y, alpha):# 线性回归的梯度下降\n",
    "    sample_num, dim = X.shape\n",
    "    weights=np.ones(shape=(dim,1))#初始化theta和b\n",
    "    bias=np.array([[1]])\n",
    "    cost_init = cost_function(weights, bias, X, y)\n",
    "    weights_grad,bias_grad = gradient_function(weights, bias, X, y)\n",
    "    while not np.all(np.absolute(weights_grad) <= 1e-5):\n",
    "        weights = weights - alpha * weights_grad\n",
    "        bias = bias - alpha * bias_grad\n",
    "        weights_grad,bias_grad = gradient_function(weights,bias, X, y)\n",
    "        cost = cost_function(weights,bias, X, y)\n",
    "        \n",
    "    weights_np = weights.flatten()\n",
    "    bias_np = bias.flatten()\n",
    "    return weights_np,bias_np"
   ]
  },
  {
   "cell_type": "code",
   "execution_count": 23,
   "metadata": {},
   "outputs": [],
   "source": [
    "data_x=np.random.normal(0,10,[5,3])\n",
    "Weights=np.array([[3,4,6]])\n",
    "data_y=np.dot(data_x,Weights.T)+5\n",
    " \n",
    "weights,bias =liner_Regression(data_x,data_y,alpha=0.01)\n"
   ]
  },
  {
   "cell_type": "code",
   "execution_count": 24,
   "metadata": {},
   "outputs": [
    {
     "data": {
      "text/plain": [
       "array([2.99999989, 3.99998986, 5.99998333])"
      ]
     },
     "execution_count": 24,
     "metadata": {},
     "output_type": "execute_result"
    }
   ],
   "source": [
    "weights"
   ]
  },
  {
   "cell_type": "code",
   "execution_count": null,
   "metadata": {},
   "outputs": [],
   "source": []
  }
 ],
 "metadata": {
  "kernelspec": {
   "display_name": "learn",
   "language": "python",
   "name": "learn"
  },
  "language_info": {
   "codemirror_mode": {
    "name": "ipython",
    "version": 3
   },
   "file_extension": ".py",
   "mimetype": "text/x-python",
   "name": "python",
   "nbconvert_exporter": "python",
   "pygments_lexer": "ipython3",
   "version": "3.7.3"
  }
 },
 "nbformat": 4,
 "nbformat_minor": 2
}
