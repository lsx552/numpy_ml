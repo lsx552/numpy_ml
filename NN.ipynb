{
 "cells": [
  {
   "cell_type": "code",
   "execution_count": 62,
   "metadata": {},
   "outputs": [],
   "source": [
    "import numpy as np\n",
    "import pandas as pd\n",
    "from IPython.display import Image\n",
    "import warnings\n",
    "from sklearn.model_selection import train_test_split\n",
    "from sklearn.metrics import accuracy_score\n",
    "from sklearn.linear_model import LogisticRegression\n",
    "from sklearn import datasets"
   ]
  },
  {
   "cell_type": "code",
   "execution_count": 63,
   "metadata": {},
   "outputs": [],
   "source": [
    "#激活函数\n",
    "def sigmoid(Z):\n",
    "    A = 1/(1+np.exp(-Z))\n",
    "    return A\n",
    "\n",
    "def relu(Z):\n",
    "    A = np.maximum(0,Z)\n",
    "    return A\n",
    " \n",
    "def sigmoid_backward(dA, Z):\n",
    "    \"\"\"\n",
    "     实现了sigmoid单元的反向传播\n",
    "    \n",
    "    dA -- 损失函数对A的梯度\n",
    "    Z -- 带权输入Z\n",
    "    Returns:\n",
    "    dZ -- 损失函数对Z的梯度\n",
    "    \"\"\"\n",
    "    s = sigmoid(Z)\n",
    "    dZ = dA * s * (1-s) # dA乘sigmoid导数\n",
    "    return dZ\n",
    "\n",
    "def relu_backward(dA, Z):\n",
    "    \"\"\"\n",
    "    实现了relu单元的反向传播\n",
    "\n",
    "    dA -- 损失函数对A的梯度\n",
    "    Z -- 带权输入Z\n",
    "    Returns:\n",
    "    dZ -- 损失函数对Z的梯度\n",
    "    \"\"\"\n",
    "    dZ = np.array(dA, copy=True) # relu导数为1(输入大于0)，所以直接复制一份dA即可\n",
    "    dZ[Z <= 0] = 0 # 当输入小于0时，relu导数为0，所以dZ中小于0的数变为0\n",
    "    return dZ\n"
   ]
  },
  {
   "cell_type": "code",
   "execution_count": 64,
   "metadata": {},
   "outputs": [],
   "source": [
    "#初始化参数\n",
    "def init_layers(nn_architecture, seed = 99):\n",
    "    np.random.seed(seed)\n",
    "    number_of_layers = len(nn_architecture)\n",
    "    params_values = {}\n",
    "\n",
    "    for idx, layer in enumerate(nn_architecture):\n",
    "        if idx == len(nn_architecture):\n",
    "            break\n",
    "        layer_idx = idx + 2\n",
    "        layer_input_size = layer[\"input_dim\"]\n",
    "        layer_output_size = layer[\"output_dim\"]\n",
    "\n",
    "        params_values['W' + str(layer_idx)] = np.random.randn(\n",
    "            layer_output_size, layer_input_size) * 0.1\n",
    "        params_values['b' + str(layer_idx)] = np.random.randn(\n",
    "            layer_output_size, 1) * 0.1\n",
    "\n",
    "    return params_values\n",
    "\n"
   ]
  },
  {
   "cell_type": "code",
   "execution_count": 65,
   "metadata": {},
   "outputs": [],
   "source": [
    "#前向传播的函数\n",
    "def single_layer_forward_propagation(A_prev, W_curr, b_curr, activation=\"sigmoid\"):\n",
    "    \"\"\"\n",
    "    A_prev -- 上一层的输出\n",
    "    W_curr -- 这一层的权重矩阵\n",
    "    b_curr -- 这一层的偏移向量\n",
    "    Returns:\n",
    "    A_curr -- 这一层的输出\n",
    "    Z_curr -- 这一层的带权输入\n",
    "    \"\"\"\n",
    "    Z_curr = np.dot(W_curr, A_prev) + b_curr\n",
    "\n",
    "    if activation is \"relu\":\n",
    "        activation_func = relu\n",
    "    elif activation is \"sigmoid\":\n",
    "        activation_func = sigmoid\n",
    "    else:\n",
    "        raise Exception('Non-supported activation function')\n",
    "    \n",
    "    A_curr = activation_func(Z_curr)\n",
    "    return A_curr, Z_curr\n",
    "\n",
    "def full_forward_propagation(X, params_values, layer_dims):\n",
    "    memory = {}  # 存储中间层A和Z矩阵的值\n",
    "    A_curr = np.transpose(X)\n",
    "\n",
    "    for idx, layer in enumerate(layer_dims):\n",
    "        if idx == len(nn_architecture):\n",
    "            break\n",
    "        layer_idx = idx + 2\n",
    "        A_prev = A_curr\n",
    "\n",
    "        activ_function_curr = layer[\"activation\"]\n",
    "        W_curr = params_values[\"W\" + str(layer_idx)]\n",
    "        b_curr = params_values[\"b\" + str(layer_idx)]\n",
    "        A_curr, Z_curr = single_layer_forward_propagation(A_prev, W_curr, b_curr, 'sigmoid')\n",
    "\n",
    "        memory[\"A\" + str(idx+1)] = A_prev\n",
    "        memory[\"Z\" + str(layer_idx)] = Z_curr\n",
    "\n",
    "    return A_curr, memory"
   ]
  },
  {
   "cell_type": "code",
   "execution_count": 66,
   "metadata": {},
   "outputs": [],
   "source": [
    "#损失函数\n",
    "def compute_cost(Y_pred, Y):\n",
    " #交叉熵损失函数\n",
    "    m = Y_pred.shape[1]\n",
    "    cost = -1 / m * (np.dot(Y, np.log(Y_pred).T) + np.dot(1 - Y, np.log(1 - Y_pred).T))\n",
    "    return np.squeeze(cost)\n"
   ]
  },
  {
   "cell_type": "code",
   "execution_count": 67,
   "metadata": {},
   "outputs": [
    {
     "data": {
      "image/png": "[encoded data removed]",
      "text/plain": [
       "<IPython.core.display.Image object>"
      ]
     },
     "execution_count": 67,
     "metadata": {
      "image/png": {
       "height": 260,
       "width": 320
      }
     },
     "output_type": "execute_result"
    }
   ],
   "source": [
    "Image(filename = '反向传播.png', width=320, height=260)"
   ]
  },
  {
   "cell_type": "code",
   "execution_count": 68,
   "metadata": {},
   "outputs": [],
   "source": [
    "#反向传播\n",
    "def single_layer_backward_propagation(dA_curr, W_curr, b_curr, Z_curr, A_prev, activation=\"relu\"):\n",
    "    \"\"\"\n",
    "    dA_curr -- 损失函数对当前层的输出A的梯度\n",
    "    W_curr -- 这一层的权重矩阵\n",
    "    b_curr -- 这一层的偏移向量\n",
    "    Z_curr -- 这一层的带权输入\n",
    "    A_prev -- 上一层的输出\n",
    "    Returns:\n",
    "    dA_prev -- 损失函数对上一层输出的梯度\n",
    "    dW_curr -- 损失函数对这一层权重矩阵的梯度\n",
    "    db_curr -- 损失函数对这一层偏移向量的梯度\n",
    "    \"\"\"\n",
    "    m = A_prev.shape[1]\n",
    "    if activation is \"relu\":\n",
    "        backward_activation_func = relu_backward\n",
    "    elif activation is \"sigmoid\":\n",
    "        backward_activation_func = sigmoid_backward\n",
    "    else:\n",
    "        raise Exception('Non-supported activation function')\n",
    "\n",
    "    dZ_curr = backward_activation_func(dA_curr, Z_curr)\n",
    "    dW_curr = np.dot(dZ_curr, A_prev.T) / m\n",
    "    db_curr = np.sum(dZ_curr, axis=1, keepdims=True) / m\n",
    "    dA_prev = np.dot(W_curr.T, dZ_curr)\n",
    "\n",
    "    return dA_prev, dW_curr, db_curr"
   ]
  },
  {
   "cell_type": "code",
   "execution_count": 69,
   "metadata": {},
   "outputs": [],
   "source": [
    "\n",
    "def full_backward_propagation(Y_hat, Y, memory, params_values, nn_architecture):\n",
    "    \"\"\"\n",
    "    Y_hat -- 预测值\n",
    "    Y -- 真实值\n",
    "    memory -- 存储上一层的输出A_prev和这一层的带权输入Z_curr\n",
    "    params_values -- 参数值（权重矩阵和偏移向量）\n",
    "    nn_architecture -- 网络结构\n",
    "    Returns:\n",
    "    grads_values -- 损失函数对这一层W和b的梯度值\n",
    "    \"\"\"\n",
    "\n",
    "    grads_values = {}\n",
    "    Y = Y.reshape(Y_hat.shape)\n",
    "\n",
    "    dA_prev = - (np.divide(Y, Y_hat) - np.divide(1 - Y, 1 - Y_hat));\n",
    "\n",
    "    for layer_idx_prev, layer in reversed(list(enumerate(nn_architecture))):\n",
    "        layer_idx_prev = layer_idx_prev + 1\n",
    "        layer_idx_curr  = layer_idx_prev +1\n",
    "        activ_function_curr = layer[\"activation\"]\n",
    "\n",
    "        dA_curr = dA_prev\n",
    "\n",
    "        A_prev = memory[\"A\" + str(layer_idx_prev)]\n",
    "        Z_curr = memory[\"Z\" + str(layer_idx_curr)]\n",
    "        W_curr = params_values[\"W\" + str(layer_idx_curr)]\n",
    "        b_curr = params_values[\"b\" + str(layer_idx_curr)]\n",
    "\n",
    "        dA_prev, dW_curr, db_curr = single_layer_backward_propagation(\n",
    "            dA_curr, W_curr, b_curr, Z_curr, A_prev, activ_function_curr)\n",
    "\n",
    "        grads_values[\"dW\" + str(layer_idx_curr)] = dW_curr\n",
    "        grads_values[\"db\" + str(layer_idx_curr)] = db_curr\n",
    "\n",
    "    return grads_values"
   ]
  },
  {
   "cell_type": "code",
   "execution_count": 70,
   "metadata": {},
   "outputs": [],
   "source": [
    "def update(params_values, grads_values, nn_architecture, learning_rate):\n",
    "    \"\"\"\n",
    "    params_values -- 更新前的参数值（W和b）\n",
    "    grads_values -- W和b的梯度值\n",
    "    nn_architecture -- 网络结构\n",
    "    learning_rate -- 学习率\n",
    "    Returns:\n",
    "    params_values -- 更新后的参数值\n",
    "    \"\"\"\n",
    "    for layer_idx, layer in enumerate(nn_architecture):\n",
    "        if layer_idx == len(nn_architecture):\n",
    "            break\n",
    "        layer_idx = layer_idx +2\n",
    "        params_values[\"W\" + str(layer_idx)] -= learning_rate * grads_values[\"dW\" + str(layer_idx)]\n",
    "        params_values[\"b\" + str(layer_idx)] -= learning_rate * grads_values[\"db\" + str(layer_idx)]\n",
    "\n",
    "    return params_values"
   ]
  },
  {
   "cell_type": "code",
   "execution_count": 74,
   "metadata": {},
   "outputs": [],
   "source": [
    "def train(X, Y, nn_architecture, epochs, learning_rate):\n",
    "    \"\"\"\n",
    "    X -- 输入X\n",
    "    Y -- 标签真实值Y\n",
    "    nn_architecture -- 网络结构\n",
    "    epochs -- 迭代次数\n",
    "    Returns:\n",
    "    params_values -- 训练后的参数值（W和b）\n",
    "    cost_history -- 损失\n",
    "    accuracy -- 准确率\n",
    "    \"\"\"\n",
    "    params_values = init_layers(nn_architecture, 2)\n",
    "    cost_history = []\n",
    "    accuracy_history = []\n",
    "\n",
    "    for i in range(epochs):\n",
    "        Y_hat, cache = full_forward_propagation(X, params_values, nn_architecture)\n",
    "        cost = compute_cost(Y_hat, Y)\n",
    "        cost_history.append(cost)\n",
    "        if i %500 ==0:\n",
    "            print(\"cost %f of %d epoch\"%(cost,i))\n",
    "        #accuracy = get_accuracy_value(Y_hat, Y)\n",
    "        #accuracy_history.append(accuracy)\n",
    "\n",
    "        grads_values = full_backward_propagation(Y_hat, Y, cache, params_values, nn_architecture)\n",
    "        params_values = update(params_values, grads_values, nn_architecture, learning_rate)\n",
    "\n",
    "    return params_values, cost_history, accuracy_history"
   ]
  },
  {
   "cell_type": "code",
   "execution_count": 75,
   "metadata": {},
   "outputs": [
    {
     "name": "stdout",
     "output_type": "stream",
     "text": [
      "cost 0.693043 of 0 epoch:\n",
      "cost 0.678875 of 500 epoch:\n",
      "cost 0.305129 of 1000 epoch:\n",
      "cost 0.118128 of 1500 epoch:\n",
      "cost 0.075532 of 2000 epoch:\n",
      "cost 0.049896 of 2500 epoch:\n",
      "cost 0.040224 of 3000 epoch:\n",
      "cost 0.031288 of 3500 epoch:\n",
      "cost 0.023143 of 4000 epoch:\n",
      "cost 0.019122 of 4500 epoch:\n",
      "cost 0.016565 of 5000 epoch:\n",
      "cost 0.015014 of 5500 epoch:\n",
      "cost 0.013462 of 6000 epoch:\n",
      "cost 0.012598 of 6500 epoch:\n",
      "cost 0.012004 of 7000 epoch:\n",
      "cost 0.011542 of 7500 epoch:\n",
      "cost 0.010892 of 8000 epoch:\n",
      "cost 0.010584 of 8500 epoch:\n",
      "cost 0.010026 of 9000 epoch:\n",
      "cost 0.009496 of 9500 epoch:\n"
     ]
    }
   ],
   "source": [
    "nn_architecture = [\n",
    "    {\"input_dim\": 4, \"output_dim\": 6, \"activation\": \"relu\"},\n",
    "    {\"input_dim\": 6, \"output_dim\": 3, \"activation\": \"relu\"},\n",
    "    {\"input_dim\": 3, \"output_dim\": 1, \"activation\": \"sigmoid\"},\n",
    "]\n",
    "iris = datasets.load_iris()\n",
    "X= iris['data']\n",
    "y = iris['target']\n",
    "X = X[y!=2]\n",
    "y=y[y!=2]\n",
    "X_train,X_test, y_train, y_test = train_test_split(X,y,test_size=0.3,random_state = 4)\n",
    "params_values, cost_history, accuracy_history = train(X_train,y_train,nn_architecture, 10000, 0.3)"
   ]
  },
  {
   "cell_type": "code",
   "execution_count": 86,
   "metadata": {},
   "outputs": [],
   "source": [
    "y_pred,memory = full_forward_propagation(X_test,params_values,nn_architecture)"
   ]
  },
  {
   "cell_type": "code",
   "execution_count": 92,
   "metadata": {},
   "outputs": [
    {
     "data": {
      "text/plain": [
       "array([[1.91851249e-02, 3.59494684e-05, 9.92017339e-01, 2.58898273e-06,\n",
       "        9.92044061e-01, 2.87642047e-01, 9.92021986e-01, 9.92029852e-01,\n",
       "        4.14615718e-01, 3.24735025e-04, 2.54602869e-03, 7.10882739e-05,\n",
       "        9.91999203e-01, 3.95430006e-03, 1.45342426e-05, 1.33940430e-05,\n",
       "        1.24631148e-06, 1.41022423e-02, 2.24857597e-05, 9.92070409e-01,\n",
       "        9.91986664e-01, 1.67217009e-05, 9.91969265e-01, 9.92061372e-01,\n",
       "        9.92064310e-01, 9.91960783e-01, 1.96504268e-04, 9.92098204e-01,\n",
       "        9.92028080e-01, 1.80991116e-05]])"
      ]
     },
     "execution_count": 92,
     "metadata": {},
     "output_type": "execute_result"
    }
   ],
   "source": [
    "y_pred"
   ]
  },
  {
   "cell_type": "code",
   "execution_count": 90,
   "metadata": {},
   "outputs": [
    {
     "data": {
      "text/plain": [
       "array([0, 0, 1, 0, 1, 0, 1, 1, 0, 0, 0, 0, 1, 0, 0, 0, 0, 0, 0, 1, 1, 0,\n",
       "       1, 1, 1, 1, 0, 1, 1, 0])"
      ]
     },
     "execution_count": 90,
     "metadata": {},
     "output_type": "execute_result"
    }
   ],
   "source": [
    "preds_01 = np.where(y_pred>0.5,1,0)\n",
    "preds_01 = preds_01.flatten()\n",
    "preds_01"
   ]
  },
  {
   "cell_type": "code",
   "execution_count": 91,
   "metadata": {},
   "outputs": [
    {
     "name": "stdout",
     "output_type": "stream",
     "text": [
      "测试数据准确率: 1.0\n"
     ]
    }
   ],
   "source": [
    "print(\"测试数据准确率:\",accuracy_score(preds_01, y_test))"
   ]
  },
  {
   "cell_type": "code",
   "execution_count": null,
   "metadata": {},
   "outputs": [],
   "source": []
  }
 ],
 "metadata": {
  "kernelspec": {
   "display_name": "learn",
   "language": "python",
   "name": "learn"
  },
  "language_info": {
   "codemirror_mode": {
    "name": "ipython",
    "version": 3
   },
   "file_extension": ".py",
   "mimetype": "text/x-python",
   "name": "python",
   "nbconvert_exporter": "python",
   "pygments_lexer": "ipython3",
   "version": "3.7.3"
  }
 },
 "nbformat": 4,
 "nbformat_minor": 2
}
